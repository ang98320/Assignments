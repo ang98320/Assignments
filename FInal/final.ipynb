{
 "cells": [
  {
   "cell_type": "markdown",
   "metadata": {},
   "source": [
    "# COGS 108 FINAL PROJECT"
   ]
  },
  {
   "cell_type": "markdown",
   "metadata": {},
   "source": [
    "This notebook will explore the salary of SF workers in the government sector, and help us understand how these salaries have grown relative to each other, as well as relative to COA, inflation, and general economic growth.\n",
    "\n",
    "This dataset will come from the years of 2011 - 2014, and will reflect the years post economic downturn from the 2008 recession."
   ]
  },
  {
   "cell_type": "code",
   "execution_count": 1,
   "metadata": {},
   "outputs": [],
   "source": [
    "import pandas as pd\n",
    "import seaborn\n",
    "import matplotlib as mpl\n",
    "import numpy as np"
   ]
  },
  {
   "cell_type": "markdown",
   "metadata": {},
   "source": [
    "We'll need to import the data collected from these Government-related jobs from 2011 - 2014 from the Dataset from Kaggle."
   ]
  },
  {
   "cell_type": "code",
   "execution_count": 9,
   "metadata": {
    "scrolled": true
   },
   "outputs": [
    {
     "name": "stderr",
     "output_type": "stream",
     "text": [
      "C:\\Users\\UNKNWN\\Anaconda3\\envs\\37cogs108\\lib\\site-packages\\IPython\\core\\interactiveshell.py:3020: DtypeWarning: Columns (4,5,6,12) have mixed types. Specify dtype option on import or set low_memory=False.\n",
      "  interactivity=interactivity, compiler=compiler, result=result)\n"
     ]
    }
   ],
   "source": [
    "salary_df = pd.read_csv(\"Salaries.csv\", dtype={'JobTitle': 'object', \"BasePay\": 'object', \"Overtime\": 'object', 'Otherpay': 'object', 'Agency': 'object'})"
   ]
  },
  {
   "cell_type": "code",
   "execution_count": 12,
   "metadata": {},
   "outputs": [
    {
     "name": "stdout",
     "output_type": "stream",
     "text": [
      "Id                                                                11\n",
      "EmployeeName                                           ARTHUR KENNEY\n",
      "JobTitle            ASSISTANT CHIEF OF DEPARTMENT, (FIRE DEPARTMENT)\n",
      "BasePay                                                    194999.39\n",
      "OvertimePay                                                  71344.9\n",
      "OtherPay                                                     33149.9\n",
      "Benefits                                                         NaN\n",
      "TotalPay                                                      299494\n",
      "TotalPayBenefits                                              299494\n",
      "Year                                                            2011\n",
      "Notes                                                            NaN\n",
      "Agency                                                 San Francisco\n",
      "Status                                                           NaN\n",
      "Name: 10, dtype: object\n"
     ]
    }
   ],
   "source": [
    "print(salary_df.loc[10])"
   ]
  },
  {
   "cell_type": "markdown",
   "metadata": {},
   "source": [
    "We'll also want to clean up this data in regards to safe harbor; this will require us to remove the name of the employee, as well as the agency of each person; conviently, all agencies are in San Francisco, as it is the area we are taking a look at."
   ]
  },
  {
   "cell_type": "code",
   "execution_count": 17,
   "metadata": {},
   "outputs": [],
   "source": [
    "salary_df = salary_df.drop(columns=['EmployeeName'])"
   ]
  },
  {
   "cell_type": "code",
   "execution_count": 18,
   "metadata": {},
   "outputs": [
    {
     "name": "stdout",
     "output_type": "stream",
     "text": [
      "Id                                                                11\n",
      "JobTitle            ASSISTANT CHIEF OF DEPARTMENT, (FIRE DEPARTMENT)\n",
      "BasePay                                                    194999.39\n",
      "OvertimePay                                                  71344.9\n",
      "OtherPay                                                     33149.9\n",
      "Benefits                                                         NaN\n",
      "TotalPay                                                      299494\n",
      "TotalPayBenefits                                              299494\n",
      "Year                                                            2011\n",
      "Notes                                                            NaN\n",
      "Agency                                                 San Francisco\n",
      "Status                                                           NaN\n",
      "Name: 10, dtype: object\n"
     ]
    }
   ],
   "source": [
    "print(salary_df.loc[10])"
   ]
  },
  {
   "cell_type": "code",
   "execution_count": 22,
   "metadata": {},
   "outputs": [
    {
     "name": "stdout",
     "output_type": "stream",
     "text": [
      "['GENERAL MANAGER-METROPOLITAN TRANSIT AUTHORITY'\n",
      " 'CAPTAIN III (POLICE DEPARTMENT)' 'WIRE ROPE CABLE MAINTENANCE MECHANIC'\n",
      " ... 'Conversion' 'Cashier 3' 'Not provided']\n"
     ]
    }
   ],
   "source": [
    "print(salary_df['JobTitle'].unique())"
   ]
  },
  {
   "cell_type": "code",
   "execution_count": null,
   "metadata": {},
   "outputs": [],
   "source": []
  }
 ],
 "metadata": {
  "kernelspec": {
   "display_name": "Python 3",
   "language": "python",
   "name": "python3"
  },
  "language_info": {
   "codemirror_mode": {
    "name": "ipython",
    "version": 3
   },
   "file_extension": ".py",
   "mimetype": "text/x-python",
   "name": "python",
   "nbconvert_exporter": "python",
   "pygments_lexer": "ipython3",
   "version": "3.7.2"
  }
 },
 "nbformat": 4,
 "nbformat_minor": 2
}
